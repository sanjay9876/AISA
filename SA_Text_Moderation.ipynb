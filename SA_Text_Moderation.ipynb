{
  "nbformat": 4,
  "nbformat_minor": 0,
  "metadata": {
    "colab": {
      "provenance": []
    },
    "kernelspec": {
      "name": "python3",
      "display_name": "Python 3"
    },
    "language_info": {
      "name": "python"
    }
  },
  "cells": [
    {
      "cell_type": "code",
      "source": [
        "# Sanjay Agarwal\n",
        "# a) Text Moderator based on Hugging Face pre-trained model to classify text\n",
        "#    into 18 categories.\n",
        "# b) Implemented gradio text IO to submit and receive text response\n",
        "# c) Find the category and value for the type of toxicity\n",
        "# d) Bar chart to plot the toxicity"
      ],
      "metadata": {
        "id": "W88VwLEZv50y"
      },
      "execution_count": 109,
      "outputs": []
    },
    {
      "cell_type": "code",
      "source": [
        "# Dataset, currently classifies text into 18 categories\n",
        "# https://huggingface.co/datasets/ifmain/text-moderation-410K\n",
        "\"\"\"\n",
        "harassment\n",
        "harassment_threatening\n",
        "hate\n",
        "hate_threatening\n",
        "self_harm\n",
        "self_harm_instructions\n",
        "self_harm_intent\n",
        "sexual\n",
        "sexual_minors\n",
        "violence\n",
        "violence_graphic\n",
        "self-harm\n",
        "sexual/minors\n",
        "hate/threatening\n",
        "violence/graphic\n",
        "self-harm/intent\n",
        "self-harm/instructions\n",
        "harassment/threatening\n",
        "\"\"\""
      ],
      "metadata": {
        "colab": {
          "base_uri": "https://localhost:8080/",
          "height": 53
        },
        "id": "W9HkeIw7pwnz",
        "outputId": "e2a99482-5dc5-46d4-f7a4-2b07eb51428a"
      },
      "execution_count": 65,
      "outputs": [
        {
          "output_type": "execute_result",
          "data": {
            "text/plain": [
              "'\\nharassment\\nharassment_threatening\\nhate\\nhate_threatening\\nself_harm\\nself_harm_instructions\\nself_harm_intent\\nsexual\\nsexual_minors\\nviolence\\nviolence_graphic\\nself-harm\\nsexual/minors\\nhate/threatening\\nviolence/graphic\\nself-harm/intent\\nself-harm/instructions\\nharassment/threatening\\n'"
            ],
            "application/vnd.google.colaboratory.intrinsic+json": {
              "type": "string"
            }
          },
          "metadata": {},
          "execution_count": 65
        }
      ]
    },
    {
      "cell_type": "code",
      "source": [
        "pip install gradio"
      ],
      "metadata": {
        "colab": {
          "base_uri": "https://localhost:8080/"
        },
        "id": "5yGF-6TER4Xf",
        "outputId": "0b85cf2d-f02a-44a5-877f-db21db98f4dd"
      },
      "execution_count": 66,
      "outputs": [
        {
          "output_type": "stream",
          "name": "stdout",
          "text": [
            "Requirement already satisfied: gradio in /usr/local/lib/python3.11/dist-packages (5.14.0)\n",
            "Requirement already satisfied: aiofiles<24.0,>=22.0 in /usr/local/lib/python3.11/dist-packages (from gradio) (23.2.1)\n",
            "Requirement already satisfied: anyio<5.0,>=3.0 in /usr/local/lib/python3.11/dist-packages (from gradio) (3.7.1)\n",
            "Requirement already satisfied: fastapi<1.0,>=0.115.2 in /usr/local/lib/python3.11/dist-packages (from gradio) (0.115.8)\n",
            "Requirement already satisfied: ffmpy in /usr/local/lib/python3.11/dist-packages (from gradio) (0.5.0)\n",
            "Requirement already satisfied: gradio-client==1.7.0 in /usr/local/lib/python3.11/dist-packages (from gradio) (1.7.0)\n",
            "Requirement already satisfied: httpx>=0.24.1 in /usr/local/lib/python3.11/dist-packages (from gradio) (0.28.1)\n",
            "Requirement already satisfied: huggingface-hub>=0.25.1 in /usr/local/lib/python3.11/dist-packages (from gradio) (0.27.1)\n",
            "Requirement already satisfied: jinja2<4.0 in /usr/local/lib/python3.11/dist-packages (from gradio) (3.1.5)\n",
            "Requirement already satisfied: markupsafe~=2.0 in /usr/local/lib/python3.11/dist-packages (from gradio) (2.1.5)\n",
            "Requirement already satisfied: numpy<3.0,>=1.0 in /usr/local/lib/python3.11/dist-packages (from gradio) (1.26.4)\n",
            "Requirement already satisfied: orjson~=3.0 in /usr/local/lib/python3.11/dist-packages (from gradio) (3.10.15)\n",
            "Requirement already satisfied: packaging in /usr/local/lib/python3.11/dist-packages (from gradio) (24.2)\n",
            "Requirement already satisfied: pandas<3.0,>=1.0 in /usr/local/lib/python3.11/dist-packages (from gradio) (2.2.2)\n",
            "Requirement already satisfied: pillow<12.0,>=8.0 in /usr/local/lib/python3.11/dist-packages (from gradio) (11.1.0)\n",
            "Requirement already satisfied: pydantic>=2.0 in /usr/local/lib/python3.11/dist-packages (from gradio) (2.10.6)\n",
            "Requirement already satisfied: pydub in /usr/local/lib/python3.11/dist-packages (from gradio) (0.25.1)\n",
            "Requirement already satisfied: python-multipart>=0.0.18 in /usr/local/lib/python3.11/dist-packages (from gradio) (0.0.20)\n",
            "Requirement already satisfied: pyyaml<7.0,>=5.0 in /usr/local/lib/python3.11/dist-packages (from gradio) (6.0.2)\n",
            "Requirement already satisfied: ruff>=0.9.3 in /usr/local/lib/python3.11/dist-packages (from gradio) (0.9.4)\n",
            "Requirement already satisfied: safehttpx<0.2.0,>=0.1.6 in /usr/local/lib/python3.11/dist-packages (from gradio) (0.1.6)\n",
            "Requirement already satisfied: semantic-version~=2.0 in /usr/local/lib/python3.11/dist-packages (from gradio) (2.10.0)\n",
            "Requirement already satisfied: starlette<1.0,>=0.40.0 in /usr/local/lib/python3.11/dist-packages (from gradio) (0.45.3)\n",
            "Requirement already satisfied: tomlkit<0.14.0,>=0.12.0 in /usr/local/lib/python3.11/dist-packages (from gradio) (0.13.2)\n",
            "Requirement already satisfied: typer<1.0,>=0.12 in /usr/local/lib/python3.11/dist-packages (from gradio) (0.15.1)\n",
            "Requirement already satisfied: typing-extensions~=4.0 in /usr/local/lib/python3.11/dist-packages (from gradio) (4.12.2)\n",
            "Requirement already satisfied: uvicorn>=0.14.0 in /usr/local/lib/python3.11/dist-packages (from gradio) (0.34.0)\n",
            "Requirement already satisfied: fsspec in /usr/local/lib/python3.11/dist-packages (from gradio-client==1.7.0->gradio) (2024.10.0)\n",
            "Requirement already satisfied: websockets<15.0,>=10.0 in /usr/local/lib/python3.11/dist-packages (from gradio-client==1.7.0->gradio) (14.2)\n",
            "Requirement already satisfied: idna>=2.8 in /usr/local/lib/python3.11/dist-packages (from anyio<5.0,>=3.0->gradio) (3.10)\n",
            "Requirement already satisfied: sniffio>=1.1 in /usr/local/lib/python3.11/dist-packages (from anyio<5.0,>=3.0->gradio) (1.3.1)\n",
            "Requirement already satisfied: certifi in /usr/local/lib/python3.11/dist-packages (from httpx>=0.24.1->gradio) (2024.12.14)\n",
            "Requirement already satisfied: httpcore==1.* in /usr/local/lib/python3.11/dist-packages (from httpx>=0.24.1->gradio) (1.0.7)\n",
            "Requirement already satisfied: h11<0.15,>=0.13 in /usr/local/lib/python3.11/dist-packages (from httpcore==1.*->httpx>=0.24.1->gradio) (0.14.0)\n",
            "Requirement already satisfied: filelock in /usr/local/lib/python3.11/dist-packages (from huggingface-hub>=0.25.1->gradio) (3.17.0)\n",
            "Requirement already satisfied: requests in /usr/local/lib/python3.11/dist-packages (from huggingface-hub>=0.25.1->gradio) (2.32.3)\n",
            "Requirement already satisfied: tqdm>=4.42.1 in /usr/local/lib/python3.11/dist-packages (from huggingface-hub>=0.25.1->gradio) (4.67.1)\n",
            "Requirement already satisfied: python-dateutil>=2.8.2 in /usr/local/lib/python3.11/dist-packages (from pandas<3.0,>=1.0->gradio) (2.8.2)\n",
            "Requirement already satisfied: pytz>=2020.1 in /usr/local/lib/python3.11/dist-packages (from pandas<3.0,>=1.0->gradio) (2024.2)\n",
            "Requirement already satisfied: tzdata>=2022.7 in /usr/local/lib/python3.11/dist-packages (from pandas<3.0,>=1.0->gradio) (2025.1)\n",
            "Requirement already satisfied: annotated-types>=0.6.0 in /usr/local/lib/python3.11/dist-packages (from pydantic>=2.0->gradio) (0.7.0)\n",
            "Requirement already satisfied: pydantic-core==2.27.2 in /usr/local/lib/python3.11/dist-packages (from pydantic>=2.0->gradio) (2.27.2)\n",
            "Requirement already satisfied: click>=8.0.0 in /usr/local/lib/python3.11/dist-packages (from typer<1.0,>=0.12->gradio) (8.1.8)\n",
            "Requirement already satisfied: shellingham>=1.3.0 in /usr/local/lib/python3.11/dist-packages (from typer<1.0,>=0.12->gradio) (1.5.4)\n",
            "Requirement already satisfied: rich>=10.11.0 in /usr/local/lib/python3.11/dist-packages (from typer<1.0,>=0.12->gradio) (13.9.4)\n",
            "Requirement already satisfied: six>=1.5 in /usr/local/lib/python3.11/dist-packages (from python-dateutil>=2.8.2->pandas<3.0,>=1.0->gradio) (1.17.0)\n",
            "Requirement already satisfied: markdown-it-py>=2.2.0 in /usr/local/lib/python3.11/dist-packages (from rich>=10.11.0->typer<1.0,>=0.12->gradio) (3.0.0)\n",
            "Requirement already satisfied: pygments<3.0.0,>=2.13.0 in /usr/local/lib/python3.11/dist-packages (from rich>=10.11.0->typer<1.0,>=0.12->gradio) (2.18.0)\n",
            "Requirement already satisfied: charset-normalizer<4,>=2 in /usr/local/lib/python3.11/dist-packages (from requests->huggingface-hub>=0.25.1->gradio) (3.4.1)\n",
            "Requirement already satisfied: urllib3<3,>=1.21.1 in /usr/local/lib/python3.11/dist-packages (from requests->huggingface-hub>=0.25.1->gradio) (2.3.0)\n",
            "Requirement already satisfied: mdurl~=0.1 in /usr/local/lib/python3.11/dist-packages (from markdown-it-py>=2.2.0->rich>=10.11.0->typer<1.0,>=0.12->gradio) (0.1.2)\n"
          ]
        }
      ]
    },
    {
      "cell_type": "code",
      "source": [
        "pip install transformers torch"
      ],
      "metadata": {
        "colab": {
          "base_uri": "https://localhost:8080/"
        },
        "id": "qeM-MV4eEnt4",
        "outputId": "91c57b5c-f010-4ec1-d45f-ec5ea19b4d88"
      },
      "execution_count": 67,
      "outputs": [
        {
          "output_type": "stream",
          "name": "stdout",
          "text": [
            "Requirement already satisfied: transformers in /usr/local/lib/python3.11/dist-packages (4.47.1)\n",
            "Requirement already satisfied: torch in /usr/local/lib/python3.11/dist-packages (2.5.1+cu124)\n",
            "Requirement already satisfied: filelock in /usr/local/lib/python3.11/dist-packages (from transformers) (3.17.0)\n",
            "Requirement already satisfied: huggingface-hub<1.0,>=0.24.0 in /usr/local/lib/python3.11/dist-packages (from transformers) (0.27.1)\n",
            "Requirement already satisfied: numpy>=1.17 in /usr/local/lib/python3.11/dist-packages (from transformers) (1.26.4)\n",
            "Requirement already satisfied: packaging>=20.0 in /usr/local/lib/python3.11/dist-packages (from transformers) (24.2)\n",
            "Requirement already satisfied: pyyaml>=5.1 in /usr/local/lib/python3.11/dist-packages (from transformers) (6.0.2)\n",
            "Requirement already satisfied: regex!=2019.12.17 in /usr/local/lib/python3.11/dist-packages (from transformers) (2024.11.6)\n",
            "Requirement already satisfied: requests in /usr/local/lib/python3.11/dist-packages (from transformers) (2.32.3)\n",
            "Requirement already satisfied: tokenizers<0.22,>=0.21 in /usr/local/lib/python3.11/dist-packages (from transformers) (0.21.0)\n",
            "Requirement already satisfied: safetensors>=0.4.1 in /usr/local/lib/python3.11/dist-packages (from transformers) (0.5.2)\n",
            "Requirement already satisfied: tqdm>=4.27 in /usr/local/lib/python3.11/dist-packages (from transformers) (4.67.1)\n",
            "Requirement already satisfied: typing-extensions>=4.8.0 in /usr/local/lib/python3.11/dist-packages (from torch) (4.12.2)\n",
            "Requirement already satisfied: networkx in /usr/local/lib/python3.11/dist-packages (from torch) (3.4.2)\n",
            "Requirement already satisfied: jinja2 in /usr/local/lib/python3.11/dist-packages (from torch) (3.1.5)\n",
            "Requirement already satisfied: fsspec in /usr/local/lib/python3.11/dist-packages (from torch) (2024.10.0)\n",
            "Requirement already satisfied: nvidia-cuda-nvrtc-cu12==12.4.127 in /usr/local/lib/python3.11/dist-packages (from torch) (12.4.127)\n",
            "Requirement already satisfied: nvidia-cuda-runtime-cu12==12.4.127 in /usr/local/lib/python3.11/dist-packages (from torch) (12.4.127)\n",
            "Requirement already satisfied: nvidia-cuda-cupti-cu12==12.4.127 in /usr/local/lib/python3.11/dist-packages (from torch) (12.4.127)\n",
            "Requirement already satisfied: nvidia-cudnn-cu12==9.1.0.70 in /usr/local/lib/python3.11/dist-packages (from torch) (9.1.0.70)\n",
            "Requirement already satisfied: nvidia-cublas-cu12==12.4.5.8 in /usr/local/lib/python3.11/dist-packages (from torch) (12.4.5.8)\n",
            "Requirement already satisfied: nvidia-cufft-cu12==11.2.1.3 in /usr/local/lib/python3.11/dist-packages (from torch) (11.2.1.3)\n",
            "Requirement already satisfied: nvidia-curand-cu12==10.3.5.147 in /usr/local/lib/python3.11/dist-packages (from torch) (10.3.5.147)\n",
            "Requirement already satisfied: nvidia-cusolver-cu12==11.6.1.9 in /usr/local/lib/python3.11/dist-packages (from torch) (11.6.1.9)\n",
            "Requirement already satisfied: nvidia-cusparse-cu12==12.3.1.170 in /usr/local/lib/python3.11/dist-packages (from torch) (12.3.1.170)\n",
            "Requirement already satisfied: nvidia-nccl-cu12==2.21.5 in /usr/local/lib/python3.11/dist-packages (from torch) (2.21.5)\n",
            "Requirement already satisfied: nvidia-nvtx-cu12==12.4.127 in /usr/local/lib/python3.11/dist-packages (from torch) (12.4.127)\n",
            "Requirement already satisfied: nvidia-nvjitlink-cu12==12.4.127 in /usr/local/lib/python3.11/dist-packages (from torch) (12.4.127)\n",
            "Requirement already satisfied: triton==3.1.0 in /usr/local/lib/python3.11/dist-packages (from torch) (3.1.0)\n",
            "Requirement already satisfied: sympy==1.13.1 in /usr/local/lib/python3.11/dist-packages (from torch) (1.13.1)\n",
            "Requirement already satisfied: mpmath<1.4,>=1.1.0 in /usr/local/lib/python3.11/dist-packages (from sympy==1.13.1->torch) (1.3.0)\n",
            "Requirement already satisfied: MarkupSafe>=2.0 in /usr/local/lib/python3.11/dist-packages (from jinja2->torch) (2.1.5)\n",
            "Requirement already satisfied: charset-normalizer<4,>=2 in /usr/local/lib/python3.11/dist-packages (from requests->transformers) (3.4.1)\n",
            "Requirement already satisfied: idna<4,>=2.5 in /usr/local/lib/python3.11/dist-packages (from requests->transformers) (3.10)\n",
            "Requirement already satisfied: urllib3<3,>=1.21.1 in /usr/local/lib/python3.11/dist-packages (from requests->transformers) (2.3.0)\n",
            "Requirement already satisfied: certifi>=2017.4.17 in /usr/local/lib/python3.11/dist-packages (from requests->transformers) (2024.12.14)\n"
          ]
        }
      ]
    },
    {
      "cell_type": "code",
      "source": [
        "import json\n",
        "import torch\n",
        "from transformers import BertTokenizer, BertForSequenceClassification"
      ],
      "metadata": {
        "id": "vri41Gg0Ermb"
      },
      "execution_count": 68,
      "outputs": []
    },
    {
      "cell_type": "code",
      "source": [
        "import pandas as pd"
      ],
      "metadata": {
        "id": "YhWC1bLiXoya"
      },
      "execution_count": 69,
      "outputs": []
    },
    {
      "cell_type": "code",
      "source": [
        "import matplotlib.pyplot as plt"
      ],
      "metadata": {
        "id": "vT-nkJzDr4VA"
      },
      "execution_count": 102,
      "outputs": []
    },
    {
      "cell_type": "code",
      "source": [
        "# Load the tokenizer and model\n",
        "model_name = \"ifmain/ModerationBERT-ML-En\"\n",
        "tokenizer = BertTokenizer.from_pretrained(model_name)\n",
        "model = BertForSequenceClassification.from_pretrained(model_name, num_labels=18)"
      ],
      "metadata": {
        "id": "zU4EQ3q_FPGW"
      },
      "execution_count": 70,
      "outputs": []
    },
    {
      "cell_type": "code",
      "source": [
        "# Device configuration\n",
        "device = torch.device('cuda' if torch.cuda.is_available() else 'cpu')\n",
        "model.to(device)"
      ],
      "metadata": {
        "colab": {
          "base_uri": "https://localhost:8080/"
        },
        "id": "-0_ui9G-FPPd",
        "outputId": "bcbfe052-d6c9-4800-834f-a2d01939b171"
      },
      "execution_count": 71,
      "outputs": [
        {
          "output_type": "execute_result",
          "data": {
            "text/plain": [
              "BertForSequenceClassification(\n",
              "  (bert): BertModel(\n",
              "    (embeddings): BertEmbeddings(\n",
              "      (word_embeddings): Embedding(119547, 768, padding_idx=0)\n",
              "      (position_embeddings): Embedding(512, 768)\n",
              "      (token_type_embeddings): Embedding(2, 768)\n",
              "      (LayerNorm): LayerNorm((768,), eps=1e-12, elementwise_affine=True)\n",
              "      (dropout): Dropout(p=0.1, inplace=False)\n",
              "    )\n",
              "    (encoder): BertEncoder(\n",
              "      (layer): ModuleList(\n",
              "        (0-11): 12 x BertLayer(\n",
              "          (attention): BertAttention(\n",
              "            (self): BertSdpaSelfAttention(\n",
              "              (query): Linear(in_features=768, out_features=768, bias=True)\n",
              "              (key): Linear(in_features=768, out_features=768, bias=True)\n",
              "              (value): Linear(in_features=768, out_features=768, bias=True)\n",
              "              (dropout): Dropout(p=0.1, inplace=False)\n",
              "            )\n",
              "            (output): BertSelfOutput(\n",
              "              (dense): Linear(in_features=768, out_features=768, bias=True)\n",
              "              (LayerNorm): LayerNorm((768,), eps=1e-12, elementwise_affine=True)\n",
              "              (dropout): Dropout(p=0.1, inplace=False)\n",
              "            )\n",
              "          )\n",
              "          (intermediate): BertIntermediate(\n",
              "            (dense): Linear(in_features=768, out_features=3072, bias=True)\n",
              "            (intermediate_act_fn): GELUActivation()\n",
              "          )\n",
              "          (output): BertOutput(\n",
              "            (dense): Linear(in_features=3072, out_features=768, bias=True)\n",
              "            (LayerNorm): LayerNorm((768,), eps=1e-12, elementwise_affine=True)\n",
              "            (dropout): Dropout(p=0.1, inplace=False)\n",
              "          )\n",
              "        )\n",
              "      )\n",
              "    )\n",
              "    (pooler): BertPooler(\n",
              "      (dense): Linear(in_features=768, out_features=768, bias=True)\n",
              "      (activation): Tanh()\n",
              "    )\n",
              "  )\n",
              "  (dropout): Dropout(p=0.1, inplace=False)\n",
              "  (classifier): Linear(in_features=768, out_features=18, bias=True)\n",
              ")"
            ]
          },
          "metadata": {},
          "execution_count": 71
        }
      ]
    },
    {
      "cell_type": "code",
      "source": [
        "def predict(text, model, tokenizer):\n",
        "    encoding = tokenizer.encode_plus(\n",
        "        text,\n",
        "        add_special_tokens=True,\n",
        "        max_length=128,\n",
        "        return_token_type_ids=False,\n",
        "        padding='max_length',\n",
        "        truncation=True,\n",
        "        return_attention_mask=True,\n",
        "        return_tensors='pt'\n",
        "    )\n",
        "    input_ids = encoding['input_ids'].to(device)\n",
        "    attention_mask = encoding['attention_mask'].to(device)\n",
        "    model.eval()\n",
        "    with torch.no_grad():\n",
        "        outputs = model(input_ids, attention_mask=attention_mask)\n",
        "    predictions = torch.sigmoid(outputs.logits)  # Convert logits to probabilities\n",
        "    return predictions"
      ],
      "metadata": {
        "id": "-1FaeJMDFPYF"
      },
      "execution_count": 72,
      "outputs": []
    },
    {
      "cell_type": "code",
      "source": [
        "# Define the categories\n",
        "categories = ['harassment', 'harassment_threatening', 'hate', 'hate_threatening',\n",
        "              'self_harm', 'self_harm_instructions', 'self_harm_intent', 'sexual',\n",
        "              'sexual_minors', 'violence', 'violence_graphic', 'self-harm',\n",
        "              'sexual/minors', 'hate/threatening', 'violence/graphic',\n",
        "              'self-harm/intent', 'self-harm/instructions', 'harassment/threatening']"
      ],
      "metadata": {
        "id": "JMmL67q6FPc3"
      },
      "execution_count": 7,
      "outputs": []
    },
    {
      "cell_type": "code",
      "source": [
        "# Example usage\n",
        "new_text = \"go away, you idiot, do not come back\"\n",
        "predictions = predict(new_text, model, tokenizer)"
      ],
      "metadata": {
        "id": "nLri4MVyIckm"
      },
      "execution_count": 74,
      "outputs": []
    },
    {
      "cell_type": "code",
      "source": [
        "# Convert predictions to a dictionary\n",
        "category_scores = {categories[i]: predictions[0][i].item() for i in range(len(categories))}"
      ],
      "metadata": {
        "id": "C5bK1PV5FPgE"
      },
      "execution_count": 75,
      "outputs": []
    },
    {
      "cell_type": "code",
      "source": [
        "output = {\n",
        "    \"text\": new_text,\n",
        "    \"category_scores\": category_scores\n",
        "}"
      ],
      "metadata": {
        "id": "lxnC-En4FPlN"
      },
      "execution_count": 76,
      "outputs": []
    },
    {
      "cell_type": "code",
      "source": [
        "# Print the result as a JSON with indentation\n",
        "print(json.dumps(output, indent=4, ensure_ascii=False))"
      ],
      "metadata": {
        "colab": {
          "base_uri": "https://localhost:8080/"
        },
        "id": "PE7nGgUjIxVl",
        "outputId": "e562410d-0414-4b55-f6cd-4021cbc0ca4c"
      },
      "execution_count": 77,
      "outputs": [
        {
          "output_type": "stream",
          "name": "stdout",
          "text": [
            "{\n",
            "    \"text\": \"go away, you idiot, do not come back\",\n",
            "    \"category_scores\": {\n",
            "        \"harassment\": 0.9744502902030945,\n",
            "        \"harassment_threatening\": 0.00047903115046210587,\n",
            "        \"hate\": 0.008137796074151993,\n",
            "        \"hate_threatening\": 9.030137562149321e-07,\n",
            "        \"self_harm\": 3.6223868846718688e-06,\n",
            "        \"self_harm_instructions\": 3.05551293422468e-05,\n",
            "        \"self_harm_intent\": 3.6056987937627127e-06,\n",
            "        \"sexual\": 0.0007075229659676552,\n",
            "        \"sexual_minors\": 4.120922767469892e-06,\n",
            "        \"violence\": 0.00021864006703253835,\n",
            "        \"violence_graphic\": 1.0059319492938812e-06,\n",
            "        \"self-harm\": 3.4709182727965526e-06,\n",
            "        \"sexual/minors\": 4.319850631873123e-06,\n",
            "        \"hate/threatening\": 8.465782457278692e-07,\n",
            "        \"violence/graphic\": 9.354042731501977e-07,\n",
            "        \"self-harm/intent\": 3.1655808925279416e-06,\n",
            "        \"self-harm/instructions\": 3.117222877335735e-05,\n",
            "        \"harassment/threatening\": 0.0004914393066428602\n",
            "    }\n",
            "}\n"
          ]
        }
      ]
    },
    {
      "cell_type": "code",
      "source": [
        "def find_dict_max(dict_1):\n",
        "  # get the maximum value in the dictionary\n",
        "  max_val = max(dict_1.values())\n",
        "  # loop through the dictionary\n",
        "  for key in dict_1:\n",
        "    # check if the value of the current key is equal to the maximum value\n",
        "    if dict_1[key] == max_val:\n",
        "      print(\"Keys with maximum values are :\", key, max_val)"
      ],
      "metadata": {
        "id": "TCAvC87nSxgy"
      },
      "execution_count": 78,
      "outputs": []
    },
    {
      "cell_type": "code",
      "source": [
        "def this_text(my_text):\n",
        "  predictions = predict(my_text, model, tokenizer)\n",
        "  category_scores = {categories[i]: predictions[0][i].item() for i in range(len(categories))}\n",
        "  output = {\n",
        "    \"text\": my_text,\n",
        "    \"category_scores\": category_scores}\n",
        "  output_2 = {\n",
        "    \"category_scores\": category_scores}\n",
        "  print(json.dumps(output, indent=4, ensure_ascii=False))\n",
        "  o2 = output_2['category_scores']\n",
        "  return o2"
      ],
      "metadata": {
        "id": "E0GJkF-eIxdE"
      },
      "execution_count": 79,
      "outputs": []
    },
    {
      "cell_type": "code",
      "source": [
        "text_1 = \"let me tell you little man, a personal attack will be when I find you and beat the hell out of you. Be very glad I don't know where you live or where I can find you.\""
      ],
      "metadata": {
        "id": "IXiodOS0IxgT"
      },
      "execution_count": 80,
      "outputs": []
    },
    {
      "cell_type": "code",
      "source": [
        "o2 = this_text(text_1)"
      ],
      "metadata": {
        "colab": {
          "base_uri": "https://localhost:8080/"
        },
        "id": "uzlA8gt_Ixjo",
        "outputId": "35f8fad3-3745-41b6-f6dd-24390f203186"
      },
      "execution_count": 81,
      "outputs": [
        {
          "output_type": "stream",
          "name": "stdout",
          "text": [
            "{\n",
            "    \"text\": \"let me tell you little man, a personal attack will be when I find you and beat the hell out of you. Be very glad I don't know where you live or where I can find you.\",\n",
            "    \"category_scores\": {\n",
            "        \"harassment\": 0.6759029030799866,\n",
            "        \"harassment_threatening\": 0.9648743271827698,\n",
            "        \"hate\": 0.036711420863866806,\n",
            "        \"hate_threatening\": 0.05454448610544205,\n",
            "        \"self_harm\": 0.00017003300308715552,\n",
            "        \"self_harm_instructions\": 0.0017879246734082699,\n",
            "        \"self_harm_intent\": 0.00038172618951648474,\n",
            "        \"sexual\": 0.006945426110178232,\n",
            "        \"sexual_minors\": 0.0002574095851741731,\n",
            "        \"violence\": 0.8956981301307678,\n",
            "        \"violence_graphic\": 0.0006830751663073897,\n",
            "        \"self-harm\": 0.00017526962619740516,\n",
            "        \"sexual/minors\": 0.000286444672383368,\n",
            "        \"hate/threatening\": 0.0551639199256897,\n",
            "        \"violence/graphic\": 0.0006925142952241004,\n",
            "        \"self-harm/intent\": 0.00039052049396559596,\n",
            "        \"self-harm/instructions\": 0.0018633654108271003,\n",
            "        \"harassment/threatening\": 0.9639940857887268\n",
            "    }\n",
            "}\n"
          ]
        }
      ]
    },
    {
      "cell_type": "code",
      "source": [
        "find_dict_max(o2)"
      ],
      "metadata": {
        "colab": {
          "base_uri": "https://localhost:8080/"
        },
        "id": "lFOlgGkiQr2A",
        "outputId": "6db360ff-3d4e-4b3e-bc51-703047177923"
      },
      "execution_count": 82,
      "outputs": [
        {
          "output_type": "stream",
          "name": "stdout",
          "text": [
            "Keys with maximum values are : harassment_threatening 0.9648743271827698\n"
          ]
        }
      ]
    },
    {
      "cell_type": "code",
      "source": [
        "text_1 =  \"i hate your guts   i hope you feel good about that\""
      ],
      "metadata": {
        "id": "u-N9Xy7HIxme"
      },
      "execution_count": 83,
      "outputs": []
    },
    {
      "cell_type": "code",
      "source": [
        "o2 = this_text(text_1)"
      ],
      "metadata": {
        "colab": {
          "base_uri": "https://localhost:8080/"
        },
        "id": "jr1vksaNLLDz",
        "outputId": "0e160e04-874a-4e1c-8987-f4d0b8e2247d"
      },
      "execution_count": 84,
      "outputs": [
        {
          "output_type": "stream",
          "name": "stdout",
          "text": [
            "{\n",
            "    \"text\": \"i hate your guts   i hope you feel good about that\",\n",
            "    \"category_scores\": {\n",
            "        \"harassment\": 0.24382829666137695,\n",
            "        \"harassment_threatening\": 1.062026058207266e-06,\n",
            "        \"hate\": 9.927562496159226e-05,\n",
            "        \"hate_threatening\": 4.326847324875871e-09,\n",
            "        \"self_harm\": 4.594256552081788e-06,\n",
            "        \"self_harm_instructions\": 2.2075359083828516e-05,\n",
            "        \"self_harm_intent\": 3.325580564705888e-06,\n",
            "        \"sexual\": 0.008731835521757603,\n",
            "        \"sexual_minors\": 1.3866327208233997e-05,\n",
            "        \"violence\": 1.5928901120787486e-05,\n",
            "        \"violence_graphic\": 2.2172179114932078e-07,\n",
            "        \"self-harm\": 4.2921974454657175e-06,\n",
            "        \"sexual/minors\": 1.243342376255896e-05,\n",
            "        \"hate/threatening\": 4.2802650312978585e-09,\n",
            "        \"violence/graphic\": 2.0847316761773982e-07,\n",
            "        \"self-harm/intent\": 3.1796350867807632e-06,\n",
            "        \"self-harm/instructions\": 1.891064312076196e-05,\n",
            "        \"harassment/threatening\": 1.1115246252302313e-06\n",
            "    }\n",
            "}\n"
          ]
        }
      ]
    },
    {
      "cell_type": "code",
      "source": [
        "o2"
      ],
      "metadata": {
        "colab": {
          "base_uri": "https://localhost:8080/"
        },
        "id": "hyLDJOOlMGdf",
        "outputId": "1ee689fb-6632-41c7-abc6-a19507a994f1"
      },
      "execution_count": 85,
      "outputs": [
        {
          "output_type": "execute_result",
          "data": {
            "text/plain": [
              "{'harassment': 0.24382829666137695,\n",
              " 'harassment_threatening': 1.062026058207266e-06,\n",
              " 'hate': 9.927562496159226e-05,\n",
              " 'hate_threatening': 4.326847324875871e-09,\n",
              " 'self_harm': 4.594256552081788e-06,\n",
              " 'self_harm_instructions': 2.2075359083828516e-05,\n",
              " 'self_harm_intent': 3.325580564705888e-06,\n",
              " 'sexual': 0.008731835521757603,\n",
              " 'sexual_minors': 1.3866327208233997e-05,\n",
              " 'violence': 1.5928901120787486e-05,\n",
              " 'violence_graphic': 2.2172179114932078e-07,\n",
              " 'self-harm': 4.2921974454657175e-06,\n",
              " 'sexual/minors': 1.243342376255896e-05,\n",
              " 'hate/threatening': 4.2802650312978585e-09,\n",
              " 'violence/graphic': 2.0847316761773982e-07,\n",
              " 'self-harm/intent': 3.1796350867807632e-06,\n",
              " 'self-harm/instructions': 1.891064312076196e-05,\n",
              " 'harassment/threatening': 1.1115246252302313e-06}"
            ]
          },
          "metadata": {},
          "execution_count": 85
        }
      ]
    },
    {
      "cell_type": "code",
      "source": [
        "find_dict_max(o2)"
      ],
      "metadata": {
        "colab": {
          "base_uri": "https://localhost:8080/"
        },
        "id": "2hvXwAB1MHmB",
        "outputId": "947cf6ef-a221-48cc-9ebc-edcacb4c72c2"
      },
      "execution_count": 86,
      "outputs": [
        {
          "output_type": "stream",
          "name": "stdout",
          "text": [
            "Keys with maximum values are : harassment 0.24382829666137695\n"
          ]
        }
      ]
    },
    {
      "cell_type": "code",
      "source": [
        "text_1 =  \"you bought cupcakes, how original\""
      ],
      "metadata": {
        "id": "b6L4aBpKhG3a"
      },
      "execution_count": 87,
      "outputs": []
    },
    {
      "cell_type": "code",
      "source": [
        "o2 = this_text(text_1)"
      ],
      "metadata": {
        "colab": {
          "base_uri": "https://localhost:8080/"
        },
        "id": "x1TOFwTyhQpS",
        "outputId": "b168fa20-b95a-4f8b-a760-ecf8732e7c3a"
      },
      "execution_count": 88,
      "outputs": [
        {
          "output_type": "stream",
          "name": "stdout",
          "text": [
            "{\n",
            "    \"text\": \"you bought cupcakes, how original\",\n",
            "    \"category_scores\": {\n",
            "        \"harassment\": 0.0005933633656241,\n",
            "        \"harassment_threatening\": 1.8261086154325312e-07,\n",
            "        \"hate\": 1.5903423218333046e-06,\n",
            "        \"hate_threatening\": 2.536026277866199e-09,\n",
            "        \"self_harm\": 5.978174044685147e-07,\n",
            "        \"self_harm_instructions\": 7.641643833267153e-07,\n",
            "        \"self_harm_intent\": 6.229635118870647e-07,\n",
            "        \"sexual\": 1.2989661627216265e-05,\n",
            "        \"sexual_minors\": 3.6438788697523705e-07,\n",
            "        \"violence\": 2.9464679300872376e-06,\n",
            "        \"violence_graphic\": 1.9127758932313554e-08,\n",
            "        \"self-harm\": 5.93622417000006e-07,\n",
            "        \"sexual/minors\": 3.9599072465534846e-07,\n",
            "        \"hate/threatening\": 2.195623016731929e-09,\n",
            "        \"violence/graphic\": 1.831942597618763e-08,\n",
            "        \"self-harm/intent\": 5.153090683052142e-07,\n",
            "        \"self-harm/instructions\": 8.701500178176502e-07,\n",
            "        \"harassment/threatening\": 1.73733113228991e-07\n",
            "    }\n",
            "}\n"
          ]
        }
      ]
    },
    {
      "cell_type": "code",
      "source": [
        "find_dict_max(o2)"
      ],
      "metadata": {
        "colab": {
          "base_uri": "https://localhost:8080/"
        },
        "id": "s8b6zBnGhQuG",
        "outputId": "99b1c5fb-09e2-440e-d91f-dfff9388d57d"
      },
      "execution_count": 89,
      "outputs": [
        {
          "output_type": "stream",
          "name": "stdout",
          "text": [
            "Keys with maximum values are : harassment 0.0005933633656241\n"
          ]
        }
      ]
    },
    {
      "cell_type": "code",
      "source": [
        "text_1 = \"You look very hot\""
      ],
      "metadata": {
        "id": "SGdvFRSohQ0b"
      },
      "execution_count": 97,
      "outputs": []
    },
    {
      "cell_type": "code",
      "source": [
        "o2 = this_text(text_1)"
      ],
      "metadata": {
        "colab": {
          "base_uri": "https://localhost:8080/"
        },
        "id": "W8dU6k-LjLQi",
        "outputId": "d984e61d-c312-417c-b5f0-a41ac887847d"
      },
      "execution_count": 98,
      "outputs": [
        {
          "output_type": "stream",
          "name": "stdout",
          "text": [
            "{\n",
            "    \"text\": \"You look very hot\",\n",
            "    \"category_scores\": {\n",
            "        \"harassment\": 0.028836173936724663,\n",
            "        \"harassment_threatening\": 1.029555676268501e-07,\n",
            "        \"hate\": 2.3798107577022165e-05,\n",
            "        \"hate_threatening\": 9.316236670997569e-10,\n",
            "        \"self_harm\": 2.0670763944963255e-07,\n",
            "        \"self_harm_instructions\": 7.902590368757956e-07,\n",
            "        \"self_harm_intent\": 2.4126342168528936e-07,\n",
            "        \"sexual\": 0.0002278088213643059,\n",
            "        \"sexual_minors\": 1.826296397666738e-06,\n",
            "        \"violence\": 9.547417221256183e-07,\n",
            "        \"violence_graphic\": 1.4496281508513675e-08,\n",
            "        \"self-harm\": 2.0604596784323803e-07,\n",
            "        \"sexual/minors\": 1.8578199387775385e-06,\n",
            "        \"hate/threatening\": 8.990732602853768e-10,\n",
            "        \"violence/graphic\": 1.327863063949053e-08,\n",
            "        \"self-harm/intent\": 1.9935950490435062e-07,\n",
            "        \"self-harm/instructions\": 7.912446449154231e-07,\n",
            "        \"harassment/threatening\": 1.0049946297385759e-07\n",
            "    }\n",
            "}\n"
          ]
        }
      ]
    },
    {
      "cell_type": "code",
      "source": [
        "find_dict_max(o2)"
      ],
      "metadata": {
        "colab": {
          "base_uri": "https://localhost:8080/"
        },
        "id": "S1xCAOKkjLZI",
        "outputId": "9c12b0ac-54b3-443b-9324-176e3c2ca7a0"
      },
      "execution_count": 92,
      "outputs": [
        {
          "output_type": "stream",
          "name": "stdout",
          "text": [
            "Keys with maximum values are : harassment 0.028836173936724663\n"
          ]
        }
      ]
    },
    {
      "cell_type": "code",
      "source": [
        "find_dict_max(o2)"
      ],
      "metadata": {
        "colab": {
          "base_uri": "https://localhost:8080/"
        },
        "id": "SNes2KDSjLhL",
        "outputId": "15ca5eee-6554-40b8-98ea-a5ecdfda60d6"
      },
      "execution_count": 93,
      "outputs": [
        {
          "output_type": "stream",
          "name": "stdout",
          "text": [
            "Keys with maximum values are : harassment 0.028836173936724663\n"
          ]
        }
      ]
    },
    {
      "cell_type": "code",
      "source": [],
      "metadata": {
        "id": "7xTuKbRXjLpQ"
      },
      "execution_count": 93,
      "outputs": []
    },
    {
      "cell_type": "code",
      "source": [
        "import gradio as gr"
      ],
      "metadata": {
        "id": "GDknq4HuRXwn"
      },
      "execution_count": 94,
      "outputs": []
    },
    {
      "cell_type": "code",
      "source": [
        "# from gradio_client import Client"
      ],
      "metadata": {
        "id": "rkmUcDwcMHpI"
      },
      "execution_count": 23,
      "outputs": []
    },
    {
      "cell_type": "code",
      "source": [
        "demo = gr.Interface(fn=this_text, inputs=\"text\", outputs=\"text\")"
      ],
      "metadata": {
        "id": "K0uJj39iMHrz"
      },
      "execution_count": 95,
      "outputs": []
    },
    {
      "cell_type": "code",
      "source": [
        "demo.launch()"
      ],
      "metadata": {
        "colab": {
          "base_uri": "https://localhost:8080/",
          "height": 646
        },
        "id": "a5uKxwy5MHug",
        "outputId": "4c0e543f-0b3f-4167-b06b-ea35401f35bb"
      },
      "execution_count": 96,
      "outputs": [
        {
          "output_type": "stream",
          "name": "stdout",
          "text": [
            "Running Gradio in a Colab notebook requires sharing enabled. Automatically setting `share=True` (you can turn this off by setting `share=False` in `launch()` explicitly).\n",
            "\n",
            "Colab notebook detected. To show errors in colab notebook, set debug=True in launch()\n",
            "* Running on public URL: https://a0d5d9e2642e51d7be.gradio.live\n",
            "\n",
            "This share link expires in 72 hours. For free permanent hosting and GPU upgrades, run `gradio deploy` from the terminal in the working directory to deploy to Hugging Face Spaces (https://huggingface.co/spaces)\n"
          ]
        },
        {
          "output_type": "display_data",
          "data": {
            "text/plain": [
              "<IPython.core.display.HTML object>"
            ],
            "text/html": [
              "<div><iframe src=\"https://a0d5d9e2642e51d7be.gradio.live\" width=\"100%\" height=\"500\" allow=\"autoplay; camera; microphone; clipboard-read; clipboard-write;\" frameborder=\"0\" allowfullscreen></iframe></div>"
            ]
          },
          "metadata": {}
        },
        {
          "output_type": "execute_result",
          "data": {
            "text/plain": []
          },
          "metadata": {},
          "execution_count": 96
        }
      ]
    },
    {
      "cell_type": "code",
      "source": [
        "demo.close()"
      ],
      "metadata": {
        "colab": {
          "base_uri": "https://localhost:8080/"
        },
        "id": "MaWmIeXPUcKn",
        "outputId": "e0d16ac5-84af-4095-f9e4-132ff639bb8b"
      },
      "execution_count": 31,
      "outputs": [
        {
          "output_type": "stream",
          "name": "stdout",
          "text": [
            "Closing server running on port: 7860\n"
          ]
        }
      ]
    },
    {
      "cell_type": "code",
      "source": [
        "o2"
      ],
      "metadata": {
        "colab": {
          "base_uri": "https://localhost:8080/"
        },
        "id": "zRLxj_HUYFQ9",
        "outputId": "574df7a6-06c6-485b-fc15-4e65571b8ecc"
      },
      "execution_count": 99,
      "outputs": [
        {
          "output_type": "execute_result",
          "data": {
            "text/plain": [
              "{'harassment': 0.028836173936724663,\n",
              " 'harassment_threatening': 1.029555676268501e-07,\n",
              " 'hate': 2.3798107577022165e-05,\n",
              " 'hate_threatening': 9.316236670997569e-10,\n",
              " 'self_harm': 2.0670763944963255e-07,\n",
              " 'self_harm_instructions': 7.902590368757956e-07,\n",
              " 'self_harm_intent': 2.4126342168528936e-07,\n",
              " 'sexual': 0.0002278088213643059,\n",
              " 'sexual_minors': 1.826296397666738e-06,\n",
              " 'violence': 9.547417221256183e-07,\n",
              " 'violence_graphic': 1.4496281508513675e-08,\n",
              " 'self-harm': 2.0604596784323803e-07,\n",
              " 'sexual/minors': 1.8578199387775385e-06,\n",
              " 'hate/threatening': 8.990732602853768e-10,\n",
              " 'violence/graphic': 1.327863063949053e-08,\n",
              " 'self-harm/intent': 1.9935950490435062e-07,\n",
              " 'self-harm/instructions': 7.912446449154231e-07,\n",
              " 'harassment/threatening': 1.0049946297385759e-07}"
            ]
          },
          "metadata": {},
          "execution_count": 99
        }
      ]
    },
    {
      "cell_type": "code",
      "source": [
        "df = pd.DataFrame(o2.items(), columns=['Category', 'Cat_Value'])"
      ],
      "metadata": {
        "id": "0UyIO9sEThUM"
      },
      "execution_count": 100,
      "outputs": []
    },
    {
      "cell_type": "code",
      "source": [
        "df = df.sort_values(by='Cat_Value', ascending=True)"
      ],
      "metadata": {
        "id": "e9BbAOexsmkU"
      },
      "execution_count": 107,
      "outputs": []
    },
    {
      "cell_type": "code",
      "source": [
        "# Create a bar plot\n",
        "df.plot.barh(x='Category', y='Cat_Value', rot=0)\n",
        "plt.show()"
      ],
      "metadata": {
        "colab": {
          "base_uri": "https://localhost:8080/",
          "height": 430
        },
        "id": "B_ZcZVvDX3MZ",
        "outputId": "5a3b5e56-85b8-4055-96ba-f078e9d026a4"
      },
      "execution_count": 108,
      "outputs": [
        {
          "output_type": "display_data",
          "data": {
            "text/plain": [
              "<Figure size 640x480 with 1 Axes>"
            ],
            "image/png": "[encoded data removed]"
          },
          "metadata": {}
        }
      ]
    },
    {
      "cell_type": "code",
      "source": [],
      "metadata": {
        "id": "MkxUKMWxYzZB"
      },
      "execution_count": null,
      "outputs": []
    }
  ]
}